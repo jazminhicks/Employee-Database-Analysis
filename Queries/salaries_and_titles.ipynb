{
 "cells": [
  {
   "cell_type": "code",
   "execution_count": 45,
   "metadata": {},
   "outputs": [],
   "source": [
    "from sqlalchemy import create_engine\n",
    "import pandas as pd\n",
    "import matplotlib.pyplot as plt\n",
    "import config\n"
   ]
  },
  {
   "cell_type": "code",
   "execution_count": 46,
   "metadata": {},
   "outputs": [],
   "source": [
    "engine = create_engine(f\"postgresql://{config.sql['user']}:{config.sql['pwd']}@{config.sql['host']}/{config.sql['db']}\")\n",
    "connection = engine.connect()\n"
   ]
  },
  {
   "cell_type": "code",
   "execution_count": 47,
   "metadata": {},
   "outputs": [],
   "source": [
    "# create query of average salaries and titles\n",
    "\n",
    "query = \"\"\"SELECT titles.title, ROUND(AVG(salaries.salary)) AS \"Average Salary\"\n",
    "            FROM salaries\n",
    "            INNER JOIN titles\n",
    "            ON salaries.emp_no = titles.emp_no\n",
    "            GROUP BY title\n",
    "            ORDER BY \"Average Salary\";\"\"\""
   ]
  },
  {
   "cell_type": "code",
   "execution_count": 48,
   "metadata": {},
   "outputs": [],
   "source": [
    "# read query\n",
    "\n",
    "avg_salary = pd.read_sql_query(query, connection)"
   ]
  },
  {
   "cell_type": "code",
   "execution_count": 49,
   "metadata": {},
   "outputs": [
    {
     "data": {
      "image/png": "[encoded data removed]",
      "text/plain": [
       "<Figure size 432x288 with 1 Axes>"
      ]
     },
     "metadata": {
      "needs_background": "light"
     },
     "output_type": "display_data"
    }
   ],
   "source": [
    "# Create a bar chart of average salary by title.\n",
    "\n",
    "plt.bar(avg_salary['title'], avg_salary['Average Salary'], color = 'green')\n",
    "\n",
    "plt.xticks(avg_salary['title'], rotation = 45); #adjust tick placement\n",
    "\n",
    "# add labels\n",
    "plt.xlabel(\"Job Title\");\n",
    "plt.ylabel(\"Average Salary ($USD)\");\n",
    "plt.title(\"Average Salaries by Job Title\");\n",
    "\n",
    "plt.savefig(\"Images/salaries_by_title\")"
   ]
  },
  {
   "cell_type": "code",
   "execution_count": 50,
   "metadata": {},
   "outputs": [],
   "source": [
    "#  find employee informaiton for employee number 499942 \n"
   ]
  },
  {
   "cell_type": "code",
   "execution_count": 51,
   "metadata": {},
   "outputs": [],
   "source": [
    "emp_query = \"\"\"\n",
    "SELECT employees.emp_no, employees.first_name, employees.last_name, \n",
    "titles.title, salaries.salary\n",
    "FROM employees\n",
    "INNER JOIN titles\n",
    "ON employees.emp_no = titles.emp_no\n",
    "INNER JOIN salaries\n",
    "ON titles.emp_no = salaries.emp_no\n",
    "WHERE employees.emp_no = 499942;\n",
    "\"\"\""
   ]
  },
  {
   "cell_type": "code",
   "execution_count": 52,
   "metadata": {},
   "outputs": [
    {
     "data": {
      "text/html": [
       "<div>\n",
       "<style scoped>\n",
       "    .dataframe tbody tr th:only-of-type {\n",
       "        vertical-align: middle;\n",
       "    }\n",
       "\n",
       "    .dataframe tbody tr th {\n",
       "        vertical-align: top;\n",
       "    }\n",
       "\n",
       "    .dataframe thead th {\n",
       "        text-align: right;\n",
       "    }\n",
       "</style>\n",
       "<table border=\"1\" class=\"dataframe\">\n",
       "  <thead>\n",
       "    <tr style=\"text-align: right;\">\n",
       "      <th></th>\n",
       "      <th>emp_no</th>\n",
       "      <th>first_name</th>\n",
       "      <th>last_name</th>\n",
       "      <th>title</th>\n",
       "      <th>salary</th>\n",
       "    </tr>\n",
       "  </thead>\n",
       "  <tbody>\n",
       "    <tr>\n",
       "      <th>0</th>\n",
       "      <td>499942</td>\n",
       "      <td>April</td>\n",
       "      <td>Foolsday</td>\n",
       "      <td>Technique Leader</td>\n",
       "      <td>40000</td>\n",
       "    </tr>\n",
       "  </tbody>\n",
       "</table>\n",
       "</div>"
      ],
      "text/plain": [
       "   emp_no first_name last_name             title  salary\n",
       "0  499942      April  Foolsday  Technique Leader   40000"
      ]
     },
     "execution_count": 52,
     "metadata": {},
     "output_type": "execute_result"
    }
   ],
   "source": [
    "# read employee query\n",
    "employee_info = pd.read_sql_query(emp_query, connection)\n",
    "\n",
    "employee_info # April Fools Day! "
   ]
  },
  {
   "cell_type": "code",
   "execution_count": null,
   "metadata": {},
   "outputs": [],
   "source": []
  },
  {
   "cell_type": "code",
   "execution_count": null,
   "metadata": {},
   "outputs": [],
   "source": []
  }
 ],
 "metadata": {
  "kernelspec": {
   "display_name": "Python 3",
   "language": "python",
   "name": "python3"
  },
  "language_info": {
   "codemirror_mode": {
    "name": "ipython",
    "version": 3
   },
   "file_extension": ".py",
   "mimetype": "text/x-python",
   "name": "python",
   "nbconvert_exporter": "python",
   "pygments_lexer": "ipython3",
   "version": "3.7.3"
  }
 },
 "nbformat": 4,
 "nbformat_minor": 2
}
